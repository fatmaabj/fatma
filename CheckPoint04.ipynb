{
 "cells": [
  {
   "cell_type": "code",
   "execution_count": 1,
   "id": "23346a81",
   "metadata": {},
   "outputs": [
    {
     "name": "stdout",
     "output_type": "stream",
     "text": [
      "Largest element is: 96\n"
     ]
    }
   ],
   "source": [
    "#question01\n",
    "list1 = [5,6,8,45,96,1]\n",
    "print(\"Largest element is:\", max(list1))"
   ]
  },
  {
   "cell_type": "code",
   "execution_count": 3,
   "id": "24af7540",
   "metadata": {},
   "outputs": [
    {
     "name": "stdout",
     "output_type": "stream",
     "text": [
      "enter your first number :4\n",
      "enter your second number : 3\n",
      "the result is : \n",
      "7 , 1\n"
     ]
    }
   ],
   "source": [
    "#question02\n",
    "x=int(input ('enter your first number :'))\n",
    "y=int(input('enter your second number : '))\n",
    "def add(x , y):\n",
    "    return x + y\n",
    "def subtract(x , y):\n",
    "    return x - y\n",
    "print ('the result is : ')\n",
    "print (add(x,y), ',', subtract(x,y))"
   ]
  },
  {
   "cell_type": "code",
   "execution_count": 2,
   "id": "04bd708a",
   "metadata": {},
   "outputs": [
    {
     "name": "stdout",
     "output_type": "stream",
     "text": [
      "what is the sizeof the list3\n",
      "give me the integer5\n",
      "give me the integer6\n",
      "give me the integer9\n",
      "the sum of the even numbers is :  1\n",
      "the prod of the odd numbers is :  6\n",
      "None\n"
     ]
    }
   ],
   "source": [
    "#question03\n",
    "list=[]\n",
    "x=int(input('what is the sizeof the list'))\n",
    "for i in range (x):\n",
    "    data = int(input('give me the integer'))\n",
    "    list.append(data)\n",
    "    \n",
    "def sum(list):\n",
    "    s=0\n",
    "    for i in list:\n",
    "       s=s+1\n",
    "    return (s)\n",
    "\n",
    "def prod(myList):\n",
    " k=1\n",
    " for x in myList:\n",
    "  k=k*x\n",
    " return k\n",
    "\n",
    "def odd_even (list):\n",
    " list1=[]\n",
    " list2=[]\n",
    " i=0\n",
    " for x in list:\n",
    "  b=i%2\n",
    "  i+=1\n",
    "  if b==0:\n",
    "   list1.append(x)\n",
    "  else : \n",
    "   list2.append(x)\n",
    "   print('the sum of the even numbers is : ',sum(list1))\n",
    "   print('the prod of the odd numbers is : ',prod(list2))\n",
    "\n",
    "    \n",
    "print (odd_even(list))"
   ]
  },
  {
   "cell_type": "code",
   "execution_count": 4,
   "id": "0dee7b63",
   "metadata": {},
   "outputs": [
    {
     "name": "stdout",
     "output_type": "stream",
     "text": [
      "green-blue-red\n",
      "blue-green-red\n"
     ]
    }
   ],
   "source": [
    "#question04\n",
    "items=[n for n in input().split('-')]\n",
    "items.sort()\n",
    "print('-'.join(items))\n"
   ]
  },
  {
   "cell_type": "code",
   "execution_count": null,
   "id": "f0edf404",
   "metadata": {},
   "outputs": [],
   "source": []
  }
 ],
 "metadata": {
  "kernelspec": {
   "display_name": "Python 3",
   "language": "python",
   "name": "python3"
  },
  "language_info": {
   "codemirror_mode": {
    "name": "ipython",
    "version": 3
   },
   "file_extension": ".py",
   "mimetype": "text/x-python",
   "name": "python",
   "nbconvert_exporter": "python",
   "pygments_lexer": "ipython3",
   "version": "3.8.8"
  }
 },
 "nbformat": 4,
 "nbformat_minor": 5
}
