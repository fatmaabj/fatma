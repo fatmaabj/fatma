{
 "cells": [
  {
   "cell_type": "code",
   "execution_count": 4,
   "id": "f533543b",
   "metadata": {},
   "outputs": [
    {
     "name": "stdout",
     "output_type": "stream",
     "text": [
      "what is your name? fatma\n",
      "what is your last name?  benjemia\n",
      "hi benjemia fatma\n"
     ]
    }
   ],
   "source": [
    "#question01\n",
    "name = input('what is your name? ')\n",
    "lastname = input ('what is your last name? ')\n",
    "print ('hi' + lastname + \" \" + name)"
   ]
  },
  {
   "cell_type": "code",
   "execution_count": 6,
   "id": "4a77ff5a",
   "metadata": {},
   "outputs": [
    {
     "name": "stdout",
     "output_type": "stream",
     "text": [
      "insert a number 5\n",
      "615\n"
     ]
    }
   ],
   "source": [
    "#question02\n",
    "n = int (input ('insert a number '))\n",
    "y = n + n*10+n + n*100+n*10+n\n",
    "print(y)"
   ]
  },
  {
   "cell_type": "code",
   "execution_count": 10,
   "id": "3990e46f",
   "metadata": {},
   "outputs": [
    {
     "name": "stdout",
     "output_type": "stream",
     "text": [
      "insert a random number 75\n",
      "this number is odd\n"
     ]
    }
   ],
   "source": [
    "#question03\n",
    "s = int(input ('insert a random number '))\n",
    "if (s % 2)==0 :\n",
    "    print('this number is even')\n",
    "else : \n",
    "    print ('this number is odd')"
   ]
  },
  {
   "cell_type": "code",
   "execution_count": 25,
   "id": "5b69e9f6",
   "metadata": {},
   "outputs": [
    {
     "name": "stdout",
     "output_type": "stream",
     "text": [
      "2002 2009 2016 2023 2037 2044 2051 2058 2072 2079 2086 2093 2107 2114 2121 2128 2142 2149 2156 2163 2177 2184 2191 2198 2212 2219 2226 2233 2247 2254 2261 2268 2282 2289 2296 2303 2317 2324 2331 2338 2352 2359 2366 2373 2387 2394 2401 2408 2422 2429 2436 2443 2457 2464 2471 2478 2492 2499 2506 2513 2527 2534 2541 2548 2562 2569 2576 2583 2597 2604 2611 2618 2632 2639 2646 2653 2667 2674 2681 2688 2702 2709 2716 2723 2737 2744 2751 2758 2772 2779 2786 2793 2807 2814 2821 2828 2842 2849 2856 2863 2877 2884 2891 2898 2912 2919 2926 2933 2947 2954 2961 2968 2982 2989 2996 3003 3017 3024 3031 3038 3052 3059 3066 3073 3087 3094 3101 3108 3122 3129 3136 3143 3157 3164 3171 3178 3192 3199 "
     ]
    }
   ],
   "source": [
    "#question04\n",
    "for y in range (2000,3200):\n",
    "    begin=(' ')\n",
    "    if (y % 7)==0 and (y % 5)!=0:\n",
    "        print (y , end= (' '))"
   ]
  },
  {
   "cell_type": "code",
   "execution_count": 34,
   "id": "8b912486",
   "metadata": {},
   "outputs": [
    {
     "name": "stdout",
     "output_type": "stream",
     "text": [
      "enter a number 6\n",
      "6 ! =  720\n"
     ]
    }
   ],
   "source": [
    "#question05\n",
    "n= int(input('enter a number '))\n",
    "fact=1\n",
    "for i in range (1,n+1):\n",
    " fact = fact*i\n",
    "print(n,'! = ',fact)"
   ]
  },
  {
   "cell_type": "code",
   "execution_count": 2,
   "id": "e6d65363",
   "metadata": {},
   "outputs": [
    {
     "name": "stdout",
     "output_type": "stream",
     "text": [
      "Please Enter your word : bonjour\n",
      "Final String :      bnor\n"
     ]
    }
   ],
   "source": [
    "#question06\n",
    "word1 = input('Please Enter your word : ')\n",
    "word2 = ''\n",
    "for i in range(len(word1)):\n",
    "    if(i % 2 == 0):\n",
    "        word2 = word2 + word1[i]\n",
    "print(\"Final String :     \", word2)"
   ]
  },
  {
   "cell_type": "code",
   "execution_count": 24,
   "id": "0be7ed7d",
   "metadata": {},
   "outputs": [
    {
     "name": "stdout",
     "output_type": "stream",
     "text": [
      "enter the price 100\n",
      "the new price is  90.0\n"
     ]
    }
   ],
   "source": [
    "#question07\n",
    "p = int(input('enter the price '))\n",
    "if p >= 500:\n",
    "    p = p/2\n",
    "elif 200 <= p < 500:\n",
    "        p= p*0.7\n",
    "elif p < 200:\n",
    "    p= p*0.9\n",
    "print ('the new price is ', p )\n",
    "    "
   ]
  },
  {
   "cell_type": "code",
   "execution_count": null,
   "id": "9eadedb6",
   "metadata": {},
   "outputs": [],
   "source": [
    "list[]\n",
    "x=int(input(\"saisir le nombre d'elements de la liste\"))\n",
    "for i in range(x):\n",
    " data=int(input(\"saisi l'element\"))\n",
    " list.append(data)\n",
    "print(list)\n",
    "list.sort(reverse=true)"
   ]
  },
  {
   "cell_type": "code",
   "execution_count": null,
   "id": "4315e937",
   "metadata": {},
   "outputs": [],
   "source": []
  }
 ],
 "metadata": {
  "kernelspec": {
   "display_name": "Python 3",
   "language": "python",
   "name": "python3"
  },
  "language_info": {
   "codemirror_mode": {
    "name": "ipython",
    "version": 3
   },
   "file_extension": ".py",
   "mimetype": "text/x-python",
   "name": "python",
   "nbconvert_exporter": "python",
   "pygments_lexer": "ipython3",
   "version": "3.8.8"
  }
 },
 "nbformat": 4,
 "nbformat_minor": 5
}
