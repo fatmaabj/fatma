{
 "cells": [
  {
   "cell_type": "code",
   "execution_count": 15,
   "id": "acc1ba43",
   "metadata": {},
   "outputs": [
    {
     "name": "stdout",
     "output_type": "stream",
     "text": [
      "[[1, 3], [5, 4], [6, 5], [7, 8]]\n"
     ]
    }
   ],
   "source": [
    "#question01\n",
    "import numpy as np\n",
    "x=np.array([[1,3],[5,4],[6,5],[7,8]])\n",
    "y=x.tolist()\n",
    "print(y)"
   ]
  },
  {
   "cell_type": "code",
   "execution_count": 18,
   "id": "af4e255b",
   "metadata": {},
   "outputs": [
    {
     "name": "stdout",
     "output_type": "stream",
     "text": [
      "[[25 45 69]\n",
      " [47 36 14]\n",
      " [25 74 85]]\n",
      "the result is :\n",
      "146\n"
     ]
    }
   ],
   "source": [
    "#question02\n",
    "import numpy as np\n",
    "a=np.array([25,45,69,47,36,14,25,74,85])\n",
    "x=a.reshape(3,3)\n",
    "print(x)\n",
    "y=np.trace(x)\n",
    "print('the result is :')\n",
    "print(y)"
   ]
  },
  {
   "cell_type": "code",
   "execution_count": 39,
   "id": "2757fe11",
   "metadata": {},
   "outputs": [
    {
     "name": "stdout",
     "output_type": "stream",
     "text": [
      "the array: \n",
      "[[ 0 30 40]\n",
      " [20 60 50]]\n",
      "Values bigger than 20 = [30 40 60 50]\n"
     ]
    }
   ],
   "source": [
    "#question03\n",
    "import numpy as np\n",
    "b = np.array([[0, 30, 40], [20, 60, 50]])\n",
    "print(\"the array: \")\n",
    "print(b)\n",
    "print(\"Values bigger than 20 =\", x[x>20])"
   ]
  },
  {
   "cell_type": "code",
   "execution_count": 43,
   "id": "dbf6cf30",
   "metadata": {},
   "outputs": [
    {
     "name": "stdout",
     "output_type": "stream",
     "text": [
      "[[11 11]\n",
      " [ 6 10]\n",
      " [11 15]]\n"
     ]
    }
   ],
   "source": [
    "#question04\n",
    "import numpy as np\n",
    "A = np.array([[5,4],[2,3],[4,7]])\n",
    "B = np.array([[6,7],[4,7],[7,8]])\n",
    "C = np.add(a,b)\n",
    "print(C)"
   ]
  },
  {
   "cell_type": "code",
   "execution_count": 48,
   "id": "ea21c4cd",
   "metadata": {},
   "outputs": [
    {
     "name": "stdout",
     "output_type": "stream",
     "text": [
      "[[ 3  8]\n",
      " [14 25]\n",
      " [ 2 12]\n",
      " [30  4]]\n",
      "the result : 12.25\n"
     ]
    }
   ],
   "source": [
    "#question05\n",
    "import numpy as np\n",
    "A = np.array ([[3,8],[14,25],[2,12],[30,4]])\n",
    "print(A)\n",
    "N = np.mean(A)\n",
    "\n",
    "print('the result :' ,N)"
   ]
  },
  {
   "cell_type": "code",
   "execution_count": null,
   "id": "7ac504c2",
   "metadata": {},
   "outputs": [],
   "source": []
  }
 ],
 "metadata": {
  "kernelspec": {
   "display_name": "Python 3",
   "language": "python",
   "name": "python3"
  },
  "language_info": {
   "codemirror_mode": {
    "name": "ipython",
    "version": 3
   },
   "file_extension": ".py",
   "mimetype": "text/x-python",
   "name": "python",
   "nbconvert_exporter": "python",
   "pygments_lexer": "ipython3",
   "version": "3.8.8"
  }
 },
 "nbformat": 4,
 "nbformat_minor": 5
}
