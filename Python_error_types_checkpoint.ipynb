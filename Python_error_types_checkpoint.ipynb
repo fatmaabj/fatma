{
  "nbformat": 4,
  "nbformat_minor": 0,
  "metadata": {
    "kernelspec": {
      "display_name": "Python 2",
      "language": "python",
      "name": "python2"
    },
    "language_info": {
      "codemirror_mode": {
        "name": "ipython",
        "version": 3
      },
      "file_extension": ".py",
      "mimetype": "text/x-python",
      "name": "python",
      "nbconvert_exporter": "python",
      "pygments_lexer": "ipython3",
      "version": "3.6.8"
    },
    "colab": {
      "name": "Python error types checkpoint.ipynb",
      "provenance": [],
      "include_colab_link": true
    }
  },
  "cells": [
    {
      "cell_type": "markdown",
      "metadata": {
        "id": "view-in-github",
        "colab_type": "text"
      },
      "source": [
        "<a href=\"https://colab.research.google.com/github/fatmaabj/fatma/blob/main/Python_error_types_checkpoint.ipynb\" target=\"_parent\"><img src=\"https://colab.research.google.com/assets/colab-badge.svg\" alt=\"Open In Colab\"/></a>"
      ]
    },
    {
      "cell_type": "markdown",
      "metadata": {
        "id": "BnA5PscALqYj"
      },
      "source": [
        "# Rectify the code in each cell and **explain the error in comments**"
      ]
    },
    {
      "cell_type": "markdown",
      "metadata": {
        "id": "aZcPJnU5CUJC"
      },
      "source": [
        "### index error"
      ]
    },
    {
      "cell_type": "code",
      "metadata": {
        "id": "vizZiOjyCUJF"
      },
      "source": [
        "mylist=[14, \"hello\", 967]\n",
        "mylist=[2] #indexoutofrange"
      ],
      "execution_count": 12,
      "outputs": []
    },
    {
      "cell_type": "code",
      "metadata": {
        "id": "PctyMmHLfvkb"
      },
      "source": [
        "import pandas\n",
        "import numpy #nomodulefound"
      ],
      "execution_count": 23,
      "outputs": []
    },
    {
      "cell_type": "markdown",
      "metadata": {
        "id": "QOOGIm3DCUJb"
      },
      "source": [
        "# syntax error"
      ]
    },
    {
      "cell_type": "code",
      "metadata": {
        "id": "M5R4cb7fCUJb",
        "colab": {
          "base_uri": "https://localhost:8080/"
        },
        "outputId": "9b691245-d730-4a0d-f6ac-b73791fe4698"
      },
      "source": [
        "print(\"python errors\") #missingparentheses"
      ],
      "execution_count": 14,
      "outputs": [
        {
          "output_type": "stream",
          "text": [
            "python errors\n"
          ],
          "name": "stdout"
        }
      ]
    },
    {
      "cell_type": "markdown",
      "metadata": {
        "id": "Zllqh28_CUJh"
      },
      "source": [
        "# key error"
      ]
    },
    {
      "cell_type": "code",
      "metadata": {
        "id": "OuWy1e17CUJj"
      },
      "source": [
        "mydictionnary={True:\"hello\",False:\"bye\", '3':\"python\"}\n",
        "mydictionnary=['True'] #missingtheequal"
      ],
      "execution_count": 15,
      "outputs": []
    },
    {
      "cell_type": "markdown",
      "metadata": {
        "id": "jc1wRC1aCUJw"
      },
      "source": [
        "# indentation error"
      ]
    },
    {
      "cell_type": "code",
      "metadata": {
        "id": "meWj9PP_CUJy",
        "colab": {
          "base_uri": "https://localhost:8080/"
        },
        "outputId": "70105df0-903e-4c55-8c6b-8133eb7d54e9"
      },
      "source": [
        "i=14\n",
        "while i<78:\n",
        "   print(i)\n",
        "   i+=1 #noindentation"
      ],
      "execution_count": 16,
      "outputs": [
        {
          "output_type": "stream",
          "text": [
            "14\n",
            "15\n",
            "16\n",
            "17\n",
            "18\n",
            "19\n",
            "20\n",
            "21\n",
            "22\n",
            "23\n",
            "24\n",
            "25\n",
            "26\n",
            "27\n",
            "28\n",
            "29\n",
            "30\n",
            "31\n",
            "32\n",
            "33\n",
            "34\n",
            "35\n",
            "36\n",
            "37\n",
            "38\n",
            "39\n",
            "40\n",
            "41\n",
            "42\n",
            "43\n",
            "44\n",
            "45\n",
            "46\n",
            "47\n",
            "48\n",
            "49\n",
            "50\n",
            "51\n",
            "52\n",
            "53\n",
            "54\n",
            "55\n",
            "56\n",
            "57\n",
            "58\n",
            "59\n",
            "60\n",
            "61\n",
            "62\n",
            "63\n",
            "64\n",
            "65\n",
            "66\n",
            "67\n",
            "68\n",
            "69\n",
            "70\n",
            "71\n",
            "72\n",
            "73\n",
            "74\n",
            "75\n",
            "76\n",
            "77\n"
          ],
          "name": "stdout"
        }
      ]
    },
    {
      "cell_type": "markdown",
      "metadata": {
        "id": "-g_eEuEICUJ5"
      },
      "source": [
        "# StopIteration"
      ]
    },
    {
      "cell_type": "code",
      "metadata": {
        "id": "tJv5vQQGCUJ5",
        "colab": {
          "base_uri": "https://localhost:8080/"
        },
        "outputId": "e94a3026-a05c-42df-e809-b30b11698d6a"
      },
      "source": [
        "\n",
        "it=iter([1,2,3])\n",
        "next(it)\n",
        "next(it)\n",
        "next(it)  #noiterationfound"
      ],
      "execution_count": 17,
      "outputs": [
        {
          "output_type": "execute_result",
          "data": {
            "text/plain": [
              "3"
            ]
          },
          "metadata": {},
          "execution_count": 17
        }
      ]
    },
    {
      "cell_type": "markdown",
      "metadata": {
        "id": "0Q0fJoS1CUKA"
      },
      "source": [
        "# TypeError\n"
      ]
    },
    {
      "cell_type": "code",
      "metadata": {
        "id": "rh6bhiQ6CUKA",
        "colab": {
          "base_uri": "https://localhost:8080/"
        },
        "outputId": "d2c25225-2370-49bd-b0c8-b85abc422b64"
      },
      "source": [
        "15+15 #mustbeintnotstr"
      ],
      "execution_count": 24,
      "outputs": [
        {
          "output_type": "execute_result",
          "data": {
            "text/plain": [
              "30"
            ]
          },
          "metadata": {},
          "execution_count": 24
        }
      ]
    },
    {
      "cell_type": "markdown",
      "metadata": {
        "id": "-xs5Em9QCUKF"
      },
      "source": [
        "# ValueError"
      ]
    },
    {
      "cell_type": "code",
      "metadata": {
        "id": "_rUS-J3dCUKH",
        "colab": {
          "base_uri": "https://localhost:8080/",
          "height": 35
        },
        "outputId": "8e52e1ac-7339-430c-c1d4-398b50176f4c"
      },
      "source": [
        "str('python')  #pythonisastrnotint"
      ],
      "execution_count": 19,
      "outputs": [
        {
          "output_type": "execute_result",
          "data": {
            "application/vnd.google.colaboratory.intrinsic+json": {
              "type": "string"
            },
            "text/plain": [
              "'python'"
            ]
          },
          "metadata": {},
          "execution_count": 19
        }
      ]
    },
    {
      "cell_type": "markdown",
      "metadata": {
        "id": "SIKftfJSCUKM"
      },
      "source": [
        "# NameError"
      ]
    },
    {
      "cell_type": "code",
      "metadata": {
        "id": "j3ZhAO67CUKM",
        "colab": {
          "base_uri": "https://localhost:8080/",
          "height": 35
        },
        "outputId": "d35ae3ac-6ab3-4d99-f23e-90325b8ee453"
      },
      "source": [
        "'python' #namepythonwasn'tdefined"
      ],
      "execution_count": 20,
      "outputs": [
        {
          "output_type": "execute_result",
          "data": {
            "application/vnd.google.colaboratory.intrinsic+json": {
              "type": "string"
            },
            "text/plain": [
              "'python'"
            ]
          },
          "metadata": {},
          "execution_count": 20
        }
      ]
    },
    {
      "cell_type": "markdown",
      "metadata": {
        "id": "kNtxxeuaCUKT"
      },
      "source": [
        "# ZeroDivisionError"
      ]
    },
    {
      "cell_type": "code",
      "metadata": {
        "id": "hTaVRw1GCUKW",
        "colab": {
          "base_uri": "https://localhost:8080/"
        },
        "outputId": "afc8e7ef-0ff3-4384-c0b8-0a8227a81736"
      },
      "source": [
        "x=19/2  #divisionbyzero\n",
        "print(x)"
      ],
      "execution_count": 22,
      "outputs": [
        {
          "output_type": "stream",
          "text": [
            "9\n"
          ],
          "name": "stdout"
        }
      ]
    },
    {
      "cell_type": "code",
      "metadata": {
        "id": "k72JzmqJx-tL"
      },
      "source": [
        ""
      ],
      "execution_count": null,
      "outputs": []
    }
  ]
}