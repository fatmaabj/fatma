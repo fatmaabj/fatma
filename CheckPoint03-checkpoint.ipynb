{
 "cells": [
  {
   "cell_type": "code",
   "execution_count": 1,
   "id": "6c43bd06",
   "metadata": {},
   "outputs": [
    {
     "name": "stdout",
     "output_type": "stream",
     "text": [
      "the reult is :\n",
      "540\n"
     ]
    }
   ],
   "source": [
    "#question01\n",
    "def multiplyList(list):\n",
    "    result = 1\n",
    "    for i in (list):\n",
    "        result = result * i\n",
    "    return result\n",
    "l1 = [2,5,6,9]\n",
    "print ('the reult is :')\n",
    "print (multiplyList(l1))"
   ]
  },
  {
   "cell_type": "code",
   "execution_count": 2,
   "id": "47deefdc",
   "metadata": {},
   "outputs": [
    {
     "name": "stdout",
     "output_type": "stream",
     "text": [
      "Sorted a:\n",
      "[(8, 1), (1, 3), (5, 4), (5, 6), (8, 7)]\n"
     ]
    }
   ],
   "source": [
    "#question02\n",
    "def last(z):\n",
    "    return z[-1]  \n",
    "def sort(tuples):\n",
    "    return sorted(tuples, key=last)\n",
    "a=[(1, 3), (5, 6), (8, 1), (5, 4), (8, 7)]\n",
    "print(\"Sorted a:\")\n",
    "print(sort(a))"
   ]
  },
  {
   "cell_type": "code",
   "execution_count": 3,
   "id": "36a14b84",
   "metadata": {},
   "outputs": [
    {
     "name": "stdout",
     "output_type": "stream",
     "text": [
      "Counter({'a': 400, 'b': 400, 'd': 400, 'c': 300})\n"
     ]
    }
   ],
   "source": [
    "#question03\n",
    "from collections import Counter\n",
    "d1 = {'a': 100, 'b': 200, 'c':300}\n",
    "d2 = {'a': 300, 'b': 200, 'd':400}\n",
    "d = Counter(d1) + Counter(d2)\n",
    "print(d)\n"
   ]
  },
  {
   "cell_type": "code",
   "execution_count": 4,
   "id": "2118077e",
   "metadata": {},
   "outputs": [
    {
     "name": "stdout",
     "output_type": "stream",
     "text": [
      "{'a': 400, 'b': 400, 'c': 300, 'd': 400}\n"
     ]
    }
   ],
   "source": [
    "#question03\n",
    "d1 = {'a': 100, 'b': 200, 'c':300}\n",
    "d2 = {'a': 300, 'b': 200, 'd':400}\n",
    "for key in d2:\n",
    "    if key in d1:\n",
    "        d1[key] = d1[key] + d2[key]\n",
    "    else:\n",
    "        d1[key] = d2[key]\n",
    "print(d1)"
   ]
  },
  {
   "cell_type": "code",
   "execution_count": 5,
   "id": "b42fd2ac",
   "metadata": {},
   "outputs": [
    {
     "name": "stdout",
     "output_type": "stream",
     "text": [
      "enter your number : 5\n",
      "{1: 1, 2: 4, 3: 9, 4: 16, 5: 25}\n"
     ]
    }
   ],
   "source": [
    "#question04\n",
    "s = int(input('enter your number : '))\n",
    "sd = {}\n",
    "for i in range(1,s+1):\n",
    "    sd[i]=i**2\n",
    "print (sd)"
   ]
  },
  {
   "cell_type": "code",
   "execution_count": 10,
   "id": "0faebfdd",
   "metadata": {},
   "outputs": [
    {
     "name": "stdout",
     "output_type": "stream",
     "text": [
      "[('item2', '30.10'), ('item3', '24.5'), ('item1', '12.20')]\n"
     ]
    }
   ],
   "source": [
    "#question05\n",
    "items=[('item1', '12.20'), ('item2', '30.10'), ('item3', '24.5')]\n",
    "def picksecond(elem):\n",
    "    return elem[1]\n",
    "items.sort(key=picksecond,reverse=True)\n",
    "print(items)"
   ]
  }
 ],
 "metadata": {
  "kernelspec": {
   "display_name": "Python 3",
   "language": "python",
   "name": "python3"
  },
  "language_info": {
   "codemirror_mode": {
    "name": "ipython",
    "version": 3
   },
   "file_extension": ".py",
   "mimetype": "text/x-python",
   "name": "python",
   "nbconvert_exporter": "python",
   "pygments_lexer": "ipython3",
   "version": "3.8.8"
  }
 },
 "nbformat": 4,
 "nbformat_minor": 5
}
