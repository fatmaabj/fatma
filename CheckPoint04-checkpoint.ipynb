{
 "cells": [
  {
   "cell_type": "code",
   "execution_count": 1,
   "id": "23346a81",
   "metadata": {},
   "outputs": [
    {
     "name": "stdout",
     "output_type": "stream",
     "text": [
      "Largest element is: 96\n"
     ]
    }
   ],
   "source": [
    "#question01\n",
    "list1 = [5,6,8,45,96,1]\n",
    "print(\"Largest element is:\", max(list1))"
   ]
  },
  {
   "cell_type": "code",
   "execution_count": 3,
   "id": "24af7540",
   "metadata": {},
   "outputs": [
    {
     "name": "stdout",
     "output_type": "stream",
     "text": [
      "enter your first number :5\n",
      "enter your second number : 3\n",
      "the result is : \n",
      "8 , 2\n"
     ]
    }
   ],
   "source": [
    "#question02\n",
    "x=int(input ('enter your first number :'))\n",
    "y=int(input('enter your second number : '))\n",
    "def add(x , y):\n",
    "    return x + y\n",
    "def subtract(x , y):\n",
    "    return x - y\n",
    "print ('the result is : ')\n",
    "print (add(x,y), ',', subtract(x,y))"
   ]
  },
  {
   "cell_type": "code",
   "execution_count": null,
   "id": "2ab16ff4",
   "metadata": {},
   "outputs": [],
   "source": [
    "lt = [8,6,9,45,23]\n",
    "def sumoflist(list,size):\n",
    "    if "
   ]
  }
 ],
 "metadata": {
  "kernelspec": {
   "display_name": "Python 3",
   "language": "python",
   "name": "python3"
  },
  "language_info": {
   "codemirror_mode": {
    "name": "ipython",
    "version": 3
   },
   "file_extension": ".py",
   "mimetype": "text/x-python",
   "name": "python",
   "nbconvert_exporter": "python",
   "pygments_lexer": "ipython3",
   "version": "3.8.8"
  }
 },
 "nbformat": 4,
 "nbformat_minor": 5
}
