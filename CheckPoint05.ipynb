{
 "cells": [
  {
   "cell_type": "code",
   "execution_count": 6,
   "id": "99c7895d",
   "metadata": {},
   "outputs": [
    {
     "name": "stdout",
     "output_type": "stream",
     "text": [
      "[1, 3, 2]\n"
     ]
    }
   ],
   "source": [
    "#01\n",
    "class point3D:\n",
    "    def __init__(self,x, y, z):\n",
    "      print([x,y,z])\n",
    "my_point=point3D(1,3,2)   "
   ]
  },
  {
   "cell_type": "code",
   "execution_count": 2,
   "id": "63fd657c",
   "metadata": {},
   "outputs": [
    {
     "name": "stdout",
     "output_type": "stream",
     "text": [
      "entrer votre longueur :3\n",
      "entrer votre largeur :2\n",
      "6 , 10\n"
     ]
    }
   ],
   "source": [
    "#02\n",
    "x=int(input('entrer votre longueur :'))\n",
    "y=int(input('entrer votre largeur :'))\n",
    "class rectangle():\n",
    "    def __init__(self,x,y):\n",
    "        self.x=x\n",
    "        self.y=y\n",
    "    def rectangle_area(self):\n",
    "     return self.x*self.y\n",
    "    def rectangle_per(self):\n",
    "     return 2*(self.x+self.y)\n",
    "newrec=rectangle(x,y)\n",
    "print(newrec.rectangle_area(),',', newrec.rectangle_per())"
   ]
  },
  {
   "cell_type": "code",
   "execution_count": 81,
   "id": "063d6117",
   "metadata": {},
   "outputs": [
    {
     "name": "stdout",
     "output_type": "stream",
     "text": [
      "200.96\n",
      "50.24\n"
     ]
    }
   ],
   "source": [
    "#03\n",
    "class Circle():\n",
    "    def __init__(self, r):\n",
    "        self.r = r\n",
    "\n",
    "    def area(self):\n",
    "        return self.r**2*3.14\n",
    "    \n",
    "    def perimeter(self):\n",
    "        return 2*self.r*3.14\n",
    "\n",
    "NewCircle = Circle(8)\n",
    "print(NewCircle.area())\n",
    "print(NewCircle.perimeter())\n"
   ]
  },
  {
   "cell_type": "code",
   "execution_count": 77,
   "id": "976a013c",
   "metadata": {},
   "outputs": [
    {
     "name": "stdout",
     "output_type": "stream",
     "text": [
      "enter the amount of money that you want to withdraw :100\n",
      "the new amount is : 100.0\n",
      "enter the amount of money you want to deposit :200\n",
      "the new amount is : 200.0\n",
      "600.0\n"
     ]
    }
   ],
   "source": [
    "#04\n",
    "balance=500\n",
    "class Bankaccount:\n",
    "    def __init__ (self,balance):\n",
    "        self.balance=balance    \n",
    "    def  withdraw(self):\n",
    "        amount=float(input('enter the amount of money that you want to withdraw :'))\n",
    "        self.balance -= amount\n",
    "        print('the new amount is :' ,amount)\n",
    "    def deposit(self):\n",
    "        amount2=float(input('enter the amount of money you want to deposit :'))\n",
    "        self.balance += amount2\n",
    "        print ('the new amount is :',amount2)\n",
    "    def display(self):\n",
    "        print(self.balance)\n",
    "B=Bankaccount(balance)\n",
    "B.withdraw()\n",
    "B.deposit()\n",
    "B.display()"
   ]
  },
  {
   "cell_type": "code",
   "execution_count": null,
   "id": "8780adb6",
   "metadata": {},
   "outputs": [],
   "source": []
  }
 ],
 "metadata": {
  "kernelspec": {
   "display_name": "Python 3",
   "language": "python",
   "name": "python3"
  },
  "language_info": {
   "codemirror_mode": {
    "name": "ipython",
    "version": 3
   },
   "file_extension": ".py",
   "mimetype": "text/x-python",
   "name": "python",
   "nbconvert_exporter": "python",
   "pygments_lexer": "ipython3",
   "version": "3.8.8"
  }
 },
 "nbformat": 4,
 "nbformat_minor": 5
}
